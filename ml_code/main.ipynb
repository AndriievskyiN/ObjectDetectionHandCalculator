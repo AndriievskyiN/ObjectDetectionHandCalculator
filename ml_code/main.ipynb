{
 "cells": [
  {
   "cell_type": "code",
   "execution_count": 3,
   "metadata": {},
   "outputs": [],
   "source": [
    "import numpy as np\n",
    "import cv2\n",
    "import matplotlib.pyplot as plt\n",
    "\n",
    "import os\n",
    "import sys\n",
    "sys.path.append(\"../\")\n",
    "from scripts.take_pictures import take_pictures"
   ]
  },
  {
   "attachments": {},
   "cell_type": "markdown",
   "metadata": {},
   "source": [
    "# Create localization dataset"
   ]
  },
  {
   "cell_type": "code",
   "execution_count": 6,
   "metadata": {},
   "outputs": [],
   "source": [
    "# Create \"images\" and \"labels\" folders in each of the sets (train, test) in each of the class names folders\n",
    "\n",
    "sets = [\"train\", \"test\"]\n",
    "class_names = os.listdir(\"../data/hand_localization_data/train\")\n",
    "\n",
    "for set_ in sets:\n",
    "    for i in class_names:\n",
    "        pass\n",
    "        # os.system(f\"mkdir data/{set_}/{i}/images data/{set_}/{i}/labels\")"
   ]
  },
  {
   "cell_type": "code",
   "execution_count": 7,
   "metadata": {},
   "outputs": [],
   "source": [
    "data_dir = \"../data/hand_localization_data\"\n",
    "\n",
    "# Take pictures\n",
    "# take_pictures(data_dir, 10)"
   ]
  },
  {
   "cell_type": "code",
   "execution_count": 8,
   "metadata": {},
   "outputs": [],
   "source": [
    "# Label the data\n",
    "# !labelme"
   ]
  },
  {
   "attachments": {},
   "cell_type": "markdown",
   "metadata": {},
   "source": [
    "# Create classification dataset"
   ]
  },
  {
   "cell_type": "code",
   "execution_count": 2,
   "metadata": {},
   "outputs": [],
   "source": [
    "# Create folders for classification data\n",
    "class_names = [\"one\", \"two\", \"three\", \"four\", \"five\", \"plus\", \"minus\", \"empty\"]\n",
    "\n",
    "# Data directory\n",
    "dir = os.path.join(\"..\", \"data\", \"classification_data\")\n",
    "\n",
    "for i in class_names:\n",
    "    new_dir = os.path.join(dir, i)\n",
    "\n",
    "    # Create a folder corresponding to the i-th class name\n",
    "    # os.system(f\"mkdir {new_dir}\")\n"
   ]
  },
  {
   "cell_type": "code",
   "execution_count": null,
   "metadata": {},
   "outputs": [],
   "source": [
    "\n"
   ]
  }
 ],
 "metadata": {
  "kernelspec": {
   "display_name": "minimal_ds",
   "language": "python",
   "name": "python3"
  },
  "language_info": {
   "codemirror_mode": {
    "name": "ipython",
    "version": 3
   },
   "file_extension": ".py",
   "mimetype": "text/x-python",
   "name": "python",
   "nbconvert_exporter": "python",
   "pygments_lexer": "ipython3",
   "version": "3.8.12"
  },
  "orig_nbformat": 4,
  "vscode": {
   "interpreter": {
    "hash": "5579d02871a74b9c66d5ca8f24065cd0f4b7e84c9946cee1e816b1348144fa84"
   }
  }
 },
 "nbformat": 4,
 "nbformat_minor": 2
}
